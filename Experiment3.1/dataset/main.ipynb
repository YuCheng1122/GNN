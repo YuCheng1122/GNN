{
 "cells": [
  {
   "cell_type": "markdown",
   "id": "9dd967f1",
   "metadata": {},
   "source": [
    "Detection Datasets"
   ]
  },
  {
   "cell_type": "code",
   "execution_count": 7,
   "id": "fccdf065",
   "metadata": {},
   "outputs": [],
   "source": [
    "import pandas as pd\n",
    "\n",
    "# === 讀取原始資料 ===\n",
    "file_path = \"/home/tommy/Projects/cross-architecture/Experiment3.1/dataset/20250509_merged_deduped.csv\"\n",
    "df = pd.read_csv(file_path)\n",
    "\n",
    "# === 設定條件 ===\n",
    "target_cpus = [\"ARM\", \"Advanced Micro Devices X86-64\", \"MIPS R3000\", \"PowerPC\", \"Intel 80386\"]\n",
    "benign_label = \"benign\"\n",
    "malware_labels = [\"mirai\", \"gafgyt\", \"tsunami\"]\n",
    "\n",
    "# 篩選所需 CPU 和 label 的資料\n",
    "filtered_df = df[df[\"CPU\"].isin(target_cpus) & df[\"label\"].isin([benign_label] + malware_labels)]\n",
    "\n",
    "# === 開始分組抽樣 ===\n",
    "all_samples = []\n",
    "\n",
    "for cpu in target_cpus:\n",
    "    cpu_df = filtered_df[filtered_df[\"CPU\"] == cpu]\n",
    "    \n",
    "    # 取 1200 筆 benign\n",
    "    benign_sample = cpu_df[cpu_df[\"label\"] == benign_label].sample(\n",
    "        n=min(1200, len(cpu_df[cpu_df[\"label\"] == benign_label])), random_state=42\n",
    "    )\n",
    "    all_samples.append(benign_sample)\n",
    "    \n",
    "    # 每個 malware family 各取 400，並改 label\n",
    "    for m_label in malware_labels:\n",
    "        malware_sample = cpu_df[cpu_df[\"label\"] == m_label].sample(\n",
    "            n=min(400, len(cpu_df[cpu_df[\"label\"] == m_label])), random_state=42\n",
    "        )\n",
    "        malware_sample = malware_sample.copy()\n",
    "        malware_sample[\"label\"] = \"malware\"\n",
    "        all_samples.append(malware_sample)\n",
    "\n",
    "# 合併所有抽樣結果\n",
    "final_df = pd.concat(all_samples)\n",
    "\n",
    "# === 儲存結果 ===\n",
    "output_path = \"/home/tommy/Projects/cross-architecture/Experiment3.1/dataset/detection_dataset.csv\"\n",
    "final_df.to_csv(output_path, index=False)\n",
    "\n"
   ]
  },
  {
   "cell_type": "markdown",
   "id": "9c003938",
   "metadata": {},
   "source": [
    "Alignment Dataset"
   ]
  },
  {
   "cell_type": "code",
   "execution_count": null,
   "id": "b581115f",
   "metadata": {},
   "outputs": [
    {
     "name": "stdout",
     "output_type": "stream",
     "text": [
      "Train:\n",
      "                                              file_name  \\\n",
      "1800  2d65b9d86d771c8d84f995f40f140ee07a1498353fe879...   \n",
      "1801  afdf94d82b354b659652182e5d6fcc6a3d0d4dc20694c6...   \n",
      "1802  ceb80fe99245dd78053c95b825d6a8b99767e3dbf2b7e8...   \n",
      "1803  abef1c340c9c5f1870eb843f4169dceef63a70583ce68b...   \n",
      "1804  35f8483e994e351d3b0ffba87893f70aa4e65ebf7ed7ff...   \n",
      "\n",
      "                                CPU   label  \n",
      "1800  Advanced Micro Devices X86-64  benign  \n",
      "1801  Advanced Micro Devices X86-64  benign  \n",
      "1802  Advanced Micro Devices X86-64  benign  \n",
      "1803  Advanced Micro Devices X86-64  benign  \n",
      "1804  Advanced Micro Devices X86-64  benign  \n",
      "\n",
      "Test:\n",
      "                                           file_name  CPU   label\n",
      "0  1f20fd8843c6a5145399c66f16e27d6daa4bed92658911...  ARM  benign\n",
      "1  3e78e1799bfd26e9b9a245bdeaad1ecda258b5ee03cd05...  ARM  benign\n",
      "2  aa4474d13d7eb07fc790759fb04e73fd3948a53eb4825d...  ARM  benign\n",
      "3  e905964de7509408a4d44ec7c8e743f23b98b25964c92a...  ARM  benign\n",
      "4  3862d6a1de842210e07d5668212d278a3e12f25e2d5c61...  ARM  benign\n"
     ]
    }
   ],
   "source": [
    "import pandas as pd\n",
    "\n",
    "# 載入 CSV\n",
    "file_name = \"/home/tommy/Projects/pcodeFcg/dataset/csv/combined.csv\"\n",
    "df = pd.read_csv(file_name)\n",
    "\n",
    "# 篩選目標 label\n",
    "target_labels = [\"benign\", \"mirai\", \"gafgyt\", \"tsunami\"]\n",
    "df = df[df['label'].isin(target_labels)]\n",
    "\n",
    "# 建立 train/test 分割\n",
    "train_df = df[df['CPU'].str.contains(\"Advanced Micro Devices X86-64\", case=False, na=False)]\n",
    "test_arm_df = df[df['CPU'].str.contains(\"ARM\", case=False, na=False)]\n",
    "test_mips_df = df[df['CPU'].str.contains(\"MIPS\", case=False, na=False)]\n",
    "\n",
    "# 只保留需要的欄位\n",
    "train_df = train_df[['file_name', 'CPU', 'label']]\n",
    "test_arm_df = test_arm_df[['file_name', 'CPU', 'label']]\n",
    "test_mips_df = test_mips_df[['file_name', 'CPU', 'label']]\n",
    "\n",
    "# 儲存檔案\n",
    "train_df.to_csv(\"/home/tommy/Projects/pcodeFcg/dataset/csv/train.csv\", index=False)\n",
    "test_arm_df.to_csv(\"/home/tommy/Projects/pcodeFcg/dataset/csv/test_arm.csv\", index=False)\n",
    "test_mips_df.to_csv(\"/home/tommy/Projects/pcodeFcg/dataset/csv/test_mips.csv\", index=False)\n",
    "\n",
    "# 顯示前幾筆檢查\n",
    "print(\"Train:\")\n",
    "print(train_df.head())\n",
    "print(\"\\nTest ARM:\")\n",
    "print(test_arm_df.head())\n",
    "print(\"\\nTest MIPS:\")\n",
    "print(test_mips_df.head())\n"
   ]
  },
  {
   "cell_type": "markdown",
   "id": "5ad58f2a",
   "metadata": {},
   "source": [
    "Remove all columns of csv except for file_name, CPU, label"
   ]
  },
  {
   "cell_type": "code",
   "execution_count": 4,
   "id": "8537987b",
   "metadata": {},
   "outputs": [],
   "source": [
    "import pandas as pd\n",
    "\n",
    "file_path = \"/home/tommy/Projects/cross-architecture/Experiment3.1/dataset/cleaned_20250509_train_450.csv\"\n",
    "file_path_2 = \"/home/tommy/Projects/cross-architecture/Experiment3.1/dataset/cleaned_20250509_test_600.csv\"\n",
    "\n",
    "df = pd.read_csv(file_path)\n",
    "df_2 = pd.read_csv(file_path_2)\n",
    "\n",
    "# 合併兩個 DataFrame\n",
    "merged_df = pd.concat([df, df_2], ignore_index=True)\n",
    "merged_df = merged_df[['file_name', 'CPU', 'label']]\n",
    "merged_df.to_csv(\"/home/tommy/Projects/pcodeFcg/dataset/csv/combined.csv\", index=False)\n"
   ]
  }
 ],
 "metadata": {
  "kernelspec": {
   "display_name": "cross-architecture",
   "language": "python",
   "name": "python3"
  },
  "language_info": {
   "codemirror_mode": {
    "name": "ipython",
    "version": 3
   },
   "file_extension": ".py",
   "mimetype": "text/x-python",
   "name": "python",
   "nbconvert_exporter": "python",
   "pygments_lexer": "ipython3",
   "version": "3.12.8"
  }
 },
 "nbformat": 4,
 "nbformat_minor": 5
}
