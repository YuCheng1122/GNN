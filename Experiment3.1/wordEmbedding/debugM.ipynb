{
 "cells": [
  {
   "cell_type": "code",
   "execution_count": 1,
   "id": "8e5397d3",
   "metadata": {},
   "outputs": [],
   "source": [
    "path = \"/home/tommy/Projects/cross-architecture/Gpickle/20250509_new_train_450/00\""
   ]
  },
  {
   "cell_type": "code",
   "execution_count": 3,
   "id": "8a28fe74",
   "metadata": {},
   "outputs": [
    {
     "name": "stdout",
     "output_type": "stream",
     "text": [
      "Processing file: /home/tommy/Projects/cross-architecture/Gpickle/20250509_new_train_450/00/00767f09dcb45ad861ac2953781d4b896825f702ea6dbc456ec767dfd15abaf1.gpickle\n",
      "<class 'dict'>\n"
     ]
    }
   ],
   "source": [
    "import os\n",
    "import networkx as nx\n",
    "import pickle\n",
    "\n",
    "for file in os.listdir(path):\n",
    "    if file.endswith(\".gpickle\"):\n",
    "        file_path = os.path.join(path, file)\n",
    "        print(f\"Processing file: {file_path}\")\n",
    "        with open(file_path, 'rb') as f:\n",
    "            G = pickle.load(f)\n",
    "        pcode_map = nx.get_node_attributes(G, \"pcode\")\n",
    "        print(type(pcode_map))\n",
    "        break"
   ]
  },
  {
   "cell_type": "code",
   "execution_count": null,
   "id": "2054f250",
   "metadata": {},
   "outputs": [],
   "source": []
  }
 ],
 "metadata": {
  "kernelspec": {
   "display_name": "cross-architecture",
   "language": "python",
   "name": "python3"
  },
  "language_info": {
   "codemirror_mode": {
    "name": "ipython",
    "version": 3
   },
   "file_extension": ".py",
   "mimetype": "text/x-python",
   "name": "python",
   "nbconvert_exporter": "python",
   "pygments_lexer": "ipython3",
   "version": "3.12.8"
  }
 },
 "nbformat": 4,
 "nbformat_minor": 5
}
